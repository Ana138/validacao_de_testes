{
 "cells": [
  {
   "cell_type": "code",
   "execution_count": null,
   "metadata": {},
   "outputs": [],
   "source": [
    "# Exemplo de função em Python para verificar se um número é par\n",
    "def verifica_num_par(number):\n",
    "    if number % 2 == 0:\n",
    "        return True\n",
    "    else:\n",
    "        return False"
   ]
  },
  {
   "cell_type": "code",
   "execution_count": null,
   "metadata": {},
   "outputs": [],
   "source": [
    "#A declaração assert é uma construção da linguagem Python que permite verificar se uma determinada condição é verdadeira. \n",
    "#Se a condição for avaliada como falsa, um AssertionError é levantado, interrompendo a execução do programa.\n",
    "def teste_caixa_branca():\n",
    "    assert verifica_num_par(2) == True, \"Erro: o número deveria ser par\"\n",
    "    assert verifica_num_par(5) == False, \"Erro: o número deveria ser ímpar\"\n",
    "    assert verifica_num_par(10) == True, \"Erro: o número deveria ser par\""
   ]
  },
  {
   "cell_type": "code",
   "execution_count": null,
   "metadata": {},
   "outputs": [],
   "source": [
    "def teste_caixa_preta():\n",
    "    assert verifica_num_par(2) == True, \"Erro: o número deveria ser par\"\n",
    "    assert verifica_num_par(100) == True, \"Erro: o número deveria ser par\"\n",
    "    assert verifica_num_par(0) == True, \"Erro: o número deveria ser par\"\n",
    "\n",
    "    assert verifica_num_par(3) == False, \"Erro: o número deveria ser ímpar\"\n",
    "    assert verifica_num_par(101) == False, \"Erro: o número deveria ser ímpar\"\n",
    "    assert verifica_num_par(-7) == False, \"Erro: o número deveria ser ímpar\"\n",
    "\n",
    "    assert verifica_num_par(2.5) == False, \"Erro: o número não é válido para esta função\"\n",
    "    assert verifica_num_par(\"4\") == False, \"Erro: o número não é válido para esta função\"\n",
    "    assert verifica_num_par([6]) == False, \"Erro: o número não é válido para esta função\"\n"
   ]
  },
  {
   "cell_type": "code",
   "execution_count": null,
   "metadata": {},
   "outputs": [],
   "source": [
    "# Executar os testes\n",
    "teste_caixa_branca()\n"
   ]
  },
  {
   "cell_type": "code",
   "execution_count": null,
   "metadata": {},
   "outputs": [],
   "source": [
    "teste_caixa_preta()"
   ]
  }
 ],
 "metadata": {
  "kernelspec": {
   "display_name": "base",
   "language": "python",
   "name": "python3"
  },
  "language_info": {
   "codemirror_mode": {
    "name": "ipython",
    "version": 3
   },
   "file_extension": ".py",
   "mimetype": "text/x-python",
   "name": "python",
   "nbconvert_exporter": "python",
   "pygments_lexer": "ipython3",
   "version": "3.9.4"
  },
  "orig_nbformat": 4
 },
 "nbformat": 4,
 "nbformat_minor": 2
}
