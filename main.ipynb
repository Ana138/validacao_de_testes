{
 "cells": [
  {
   "cell_type": "code",
   "execution_count": 2,
   "metadata": {},
   "outputs": [
    {
     "name": "stdout",
     "output_type": "stream",
     "text": [
      "Requirement already satisfied: psycopg2 in c:\\users\\ana_j\\appdata\\local\\programs\\python\\python39\\lib\\site-packages (2.9.6)\n"
     ]
    },
    {
     "name": "stderr",
     "output_type": "stream",
     "text": [
      "WARNING: You are using pip version 22.0.4; however, version 23.1.2 is available.\n",
      "You should consider upgrading via the 'C:\\Users\\ana_j\\AppData\\Local\\Programs\\Python\\Python39\\python.exe -m pip install --upgrade pip' command.\n"
     ]
    }
   ],
   "source": [
    "!pip install psycopg2\n",
    "\n",
    "import psycopg2\n",
    "import random\n",
    "import string\n",
    "import time\n",
    "\n",
    "#Configurações de conexão ao banco de dados\n",
    "host = 'localhost'\n",
    "port = '5432'\n",
    "database = 'unifametro'\n",
    "user = 'postgres'\n",
    "password = '123456'"
   ]
  },
  {
   "cell_type": "code",
   "execution_count": 5,
   "metadata": {},
   "outputs": [],
   "source": [
    "# Função para gerar uma string aleatória\n",
    "def generate_random_string(length):\n",
    "    letters = string.ascii_letters\n",
    "    return ''.join(random.choice(letters) for i in range(length))\n",
    "\n",
    "def execute_query(query):\n",
    "    conn = psycopg2.connect(host=host, port=port,\n",
    "                            database=database, user=user,password=password)\n",
    "    cursor = conn.cursor()\n",
    "    cursor.execute(query)\n",
    "    conn.commit()\n",
    "    cursor.close()\n",
    "    conn.close()"
   ]
  },
  {
   "cell_type": "code",
   "execution_count": 6,
   "metadata": {},
   "outputs": [],
   "source": [
    "# Função para executar uma consulta no banco de dados\n",
    "def read_query(query):\n",
    "    conn = psycopg2.connect(host=host, port=port,\n",
    "                            database=database, user=user,password=password)\n",
    "    cursor = conn.cursor()\n",
    "    cursor.execute(query)\n",
    "    result = cursor.fetchall()\n",
    "    cursor.close()\n",
    "    conn.close()\n",
    "    return result"
   ]
  },
  {
   "cell_type": "code",
   "execution_count": 7,
   "metadata": {},
   "outputs": [],
   "source": [
    "# Função para realizar o teste de volume\n",
    "def perform_volume_test(num_records):\n",
    "\n",
    "    # Inserção de registros\n",
    "    for i in range(num_records):\n",
    "        dados = generate_random_string(10)\n",
    "        insert_query = f\"INSERT INTO tabela_exemplo (dados) VALUES ('{dados}');\"\n",
    "        execute_query(insert_query)\n",
    "    \n",
    "    # Contagem dos registros\n",
    "    count_query = \"SELECT COUNT(*) FROM tabela_exemplo;\"\n",
    "    result = read_query(count_query)\n",
    "    count = result[0][0]\n",
    "    print(f\"Número total de registros: {count}\")"
   ]
  },
  {
   "cell_type": "code",
   "execution_count": 8,
   "metadata": {},
   "outputs": [
    {
     "name": "stdout",
     "output_type": "stream",
     "text": [
      "Número total de registros: 2200\n",
      "Tempo de execução: 10.26707410812378 segundos\n"
     ]
    }
   ],
   "source": [
    "# Executa o teste de volume com 1000 registros\n",
    "start_time = time.time()\n",
    "perform_volume_test(200)\n",
    "end_time = time.time()\n",
    "elapsed_time = end_time - start_time\n",
    "print(f\"Tempo de execução: {elapsed_time} segundos\")"
   ]
  }
 ],
 "metadata": {
  "kernelspec": {
   "display_name": "Python 3",
   "language": "python",
   "name": "python3"
  },
  "language_info": {
   "codemirror_mode": {
    "name": "ipython",
    "version": 3
   },
   "file_extension": ".py",
   "mimetype": "text/x-python",
   "name": "python",
   "nbconvert_exporter": "python",
   "pygments_lexer": "ipython3",
   "version": "3.9.7"
  },
  "orig_nbformat": 4
 },
 "nbformat": 4,
 "nbformat_minor": 2
}
